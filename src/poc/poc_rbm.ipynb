{
  "nbformat": 4,
  "nbformat_minor": 0,
  "metadata": {
    "colab": {
      "name": "py-rbm.ipynb",
      "provenance": [],
      "collapsed_sections": []
    },
    "kernelspec": {
      "name": "python3",
      "display_name": "Python 3.9.1 64-bit ('venv')",
      "metadata": {
        "interpreter": {
          "hash": "6baaa5dba00459d62a465446e72c8647610e77799be8d76a6f004855029a11b0"
        }
      }
    }
  },
  "cells": [
    {
      "cell_type": "code",
      "metadata": {
        "id": "rTlyDeXstwLG"
      },
      "source": [
        "import time\n",
        "import numpy as np\n",
        "import torch\n",
        "import torch.utils.data\n",
        "import torch.nn as nn\n",
        "import torch.nn.functional as F\n",
        "import torch.optim as optim\n",
        "from torchvision import datasets, transforms\n",
        "from torchvision.utils import make_grid\n",
        "%matplotlib inline\n",
        "import matplotlib.pyplot as plt"
      ],
      "execution_count": 1,
      "outputs": []
    },
    {
      "cell_type": "code",
      "metadata": {
        "id": "o1hVz8rDxr_i"
      },
      "source": [
        "BATCH_SIZE = 64\n",
        "TEST_BATCH_SIZE = 6\n",
        "LEARNING_RATE = 0.1\n",
        "MNIST_IMG_WIDTH = 28\n",
        "MNIST_IMG_SIZE = MNIST_IMG_WIDTH * MNIST_IMG_WIDTH"
      ],
      "execution_count": 2,
      "outputs": []
    },
    {
      "cell_type": "code",
      "metadata": {
        "id": "IU5uVAKlt2_6"
      },
      "source": [
        "train_dataset = datasets.MNIST('', train=True, download=True, transform=transforms.Compose([transforms.ToTensor()]))\n",
        "test_dataset = datasets.MNIST('', train=False, download=True, transform=transforms.Compose([transforms.ToTensor()]))\n",
        "\n",
        "train_loader = torch.utils.data.DataLoader(dataset=train_dataset, batch_size=BATCH_SIZE)\n",
        "test_loader = torch.utils.data.DataLoader(dataset=test_dataset, batch_size=TEST_BATCH_SIZE)"
      ],
      "execution_count": 3,
      "outputs": []
    },
    {
      "cell_type": "code",
      "metadata": {
        "colab": {
          "base_uri": "https://localhost:8080/"
        },
        "id": "ljrLs2kraSyo",
        "outputId": "ac78e672-80f2-452e-9b56-e53d0914ee87"
      },
      "source": [
        "device = 'cuda:0' if torch.cuda.is_available() else 'cpu'\n",
        "print('Running on device: {}'.format(device))"
      ],
      "execution_count": 4,
      "outputs": [
        {
          "output_type": "stream",
          "name": "stdout",
          "text": [
            "Running on device: cpu\n"
          ]
        }
      ]
    },
    {
      "cell_type": "markdown",
      "metadata": {
        "id": "R7gbo8VsC-a1"
      },
      "source": [
        "The used formulas and definitions were derived from the [**A Practical Guide to Training Restricted Boltzmann Machines**](https://www.csrc.ac.cn/upload/file/20170703/1499052743888438.pdf) paper.\n",
        "\n",
        "---\n",
        "\n",
        "Hidden layer activation probability formula $p(h_{j}=1|v)$:\n",
        "\n",
        "$p(h_{j}=1|v) = \\sigma(b_{j} + \\sum_{i}^{\\left | v \\right |}v_{i}w_{i,j})$\n",
        "\n",
        "---\n",
        "\n",
        "Visible layer activation probability formula $p(v_{i}=1|h)$\n",
        "\n",
        "$p(v_{i}=1|h) = \\sigma(a_{i} + \\sum_{j}^{\\left | h \\right |}h_{j}w_{i,j})$\n",
        "\n",
        "---\n",
        "\n",
        "Free Energy formula where $a_{i}$ represents the visible layer bias and\n",
        "$x_{j} = b_{j} + \\sum_{i}^{\\left |  v\\right |}v_{i}w_{i,j}$ represents the hidden layer hypothesis:\n",
        "\n",
        "$F(v) = -\\sum_{i}^{\\left | v \\right |}a_{i}v_{i} - \\sum_{j}^{\\left | h\\right |} log(1 + e^{x_{j}})$\n"
      ]
    },
    {
      "cell_type": "code",
      "metadata": {
        "id": "Vjurzy8Qu4pu"
      },
      "source": [
        "class RestrictedBoltzmannMachine(nn.Module):\n",
        "\n",
        "  def __init__(self, visible_n=MNIST_IMG_SIZE, hidden_n=500, k=5):\n",
        "    \"\"\"\n",
        "    Initializer Restrived Boltzmann Machine neural network.\n",
        "\n",
        "    Parameters:\n",
        "    \n",
        "    visible_n (int): Number of visible nodes.\n",
        "    hidden_n  (int): Number of hidden nodes.\n",
        "    k         (int): Number of Contrastive Divergance iterations.\n",
        "    \"\"\"\n",
        "    super(RestrictedBoltzmannMachine, self).__init__()\n",
        "\n",
        "    self.weights = nn.Parameter(torch.randn(hidden_n, visible_n)*1e-2)\n",
        "    self.visible_bias = nn.Parameter(torch.zeros(visible_n))\n",
        "    self.hidden_bias = nn.Parameter(torch.zeros(hidden_n))\n",
        "    self.k = k\n",
        "\n",
        "  def _get_activations(self, h):\n",
        "    \"\"\"\n",
        "    Calculate binary activation state by comparing hypothesis to a random\n",
        "    number in the interval [0, 1).\n",
        "    \"\"\"\n",
        "    random_numbers = torch.rand(h.size())\n",
        "    signs = torch.sign(h - random_numbers)\n",
        "    # Convert the signature tensor to a binary {0, 1} tensor.\n",
        "    return F.relu(signs)\n",
        "\n",
        "  def _from_visible_to_hidden(self, x):\n",
        "    \"\"\"\n",
        "    Calculate hidden layer activations given visible layer inputs.\n",
        "    \"\"\"\n",
        "    h = torch.sigmoid(F.linear(x, self.weights, self.hidden_bias))\n",
        "    hidden_activations = self._get_activations(h)\n",
        "    return h, hidden_activations\n",
        "\n",
        "  def _from_hidden_to_visible(self, x):\n",
        "    \"\"\"\n",
        "    Calculate visible layer activations given hidden layer state.\n",
        "    \"\"\"\n",
        "    h = torch.sigmoid(F.linear(x, self.weights.t(), self.visible_bias))\n",
        "    visible_activations = self._get_activations(h)\n",
        "    return h, visible_activations\n",
        "  \n",
        "  def forward(self, x):\n",
        "    \"\"\"\n",
        "    Implements the Contrastive Divergance algorithm.\n",
        "    \"\"\"\n",
        "    hidden_probabilities, hidden_activations = self._from_visible_to_hidden(x)\n",
        "\n",
        "    # Contrastive Divergance\n",
        "    activations = hidden_activations\n",
        "    for i in range(self.k):\n",
        "      # Reconstruct visible layer from the hidden\n",
        "      visible_probabilities, visible_activations = self._from_hidden_to_visible(activations)\n",
        "      # Calculate hidden activation from the newly recostructed visible nodes\n",
        "      hidden_probabilities, activations = self._from_visible_to_hidden(visible_activations)\n",
        "\n",
        "    # Return the original data and the generated one.\n",
        "    return x, visible_activations\n",
        "\n",
        "  def free_energy(self,x):\n",
        "    \"\"\"\n",
        "    Calculates RBM's free energy given visible layer inputs.\n",
        "    \"\"\"\n",
        "    visible_exected_energy = torch.mv(x, self.visible_bias)\n",
        "\n",
        "    hidden_hypothesis = F.linear(x, self.weights, self.hidden_bias)\n",
        "    hidden_generated_energy = hidden_hypothesis.exp().add(1).log().sum(1)\n",
        "    return (-hidden_generated_energy - visible_exected_energy).mean()\n"
      ],
      "execution_count": 5,
      "outputs": []
    },
    {
      "cell_type": "code",
      "metadata": {
        "colab": {
          "base_uri": "https://localhost:8080/"
        },
        "id": "GWLC9jCtxkhu",
        "outputId": "561fcc36-cccf-47e9-cb54-63a3f4ae0be1"
      },
      "source": [
        "# Initialize the Restricted Boltzmann machine\n",
        "net = RestrictedBoltzmannMachine().to(device)\n",
        "# Initialize Stochastic Gradient Descent optimizer\n",
        "train_op = optim.SGD(net.parameters(),lr=LEARNING_RATE)\n",
        "\n",
        "for epoch in range(10):\n",
        "  loss_ = []\n",
        "  start_time = time.time()\n",
        "  for i, (X, y) in enumerate(train_loader):\n",
        "    # Reshape X to match the RBM input format\n",
        "    X = X.view(-1,784)\n",
        "    sample_data = X.bernoulli().to(device)\n",
        "\n",
        "    # Train the RBM\n",
        "    original, generated = net(sample_data)\n",
        "    \n",
        "    # Obtain the RBM free enery loss\n",
        "    loss = net.free_energy(original.to(device)) - net.free_energy(generated.to(device))\n",
        "    loss_.append(loss.data)\n",
        "\n",
        "    # Zero the gradients before computing the ones\n",
        "    train_op.zero_grad()\n",
        "    # Compute the gradients\n",
        "    loss.backward()\n",
        "    # Update the network parameters\n",
        "    train_op.step()\n",
        "  \n",
        "  print(\"Training loss for {} epoch: {} took: {}s\".format(epoch, torch.mean(torch.tensor((loss_))), time.time() - start_time))"
      ],
      "execution_count": 79,
      "outputs": [
        {
          "output_type": "stream",
          "text": [
            "Training loss for 0 epoch: -4.604414939880371 took: 47.79101777076721s\n",
            "Training loss for 1 epoch: -5.860311985015869 took: 47.71075987815857s\n",
            "Training loss for 2 epoch: -3.7256317138671875 took: 48.15107035636902s\n",
            "Training loss for 3 epoch: -2.342672348022461 took: 48.071916818618774s\n",
            "Training loss for 4 epoch: -1.4778329133987427 took: 48.015705823898315s\n",
            "Training loss for 5 epoch: -0.8568824529647827 took: 47.83751702308655s\n",
            "Training loss for 6 epoch: -0.4149568974971771 took: 47.85345149040222s\n",
            "Training loss for 7 epoch: -0.0745152086019516 took: 47.660404443740845s\n",
            "Training loss for 8 epoch: 0.19181331992149353 took: 47.971925020217896s\n",
            "Training loss for 9 epoch: 0.35378456115722656 took: 47.653016805648804s\n"
          ],
          "name": "stdout"
        }
      ]
    },
    {
      "cell_type": "code",
      "metadata": {
        "colab": {
          "base_uri": "https://localhost:8080/",
          "height": 307
        },
        "id": "EmJmupY2QPD3",
        "outputId": "ba1e6465-8fb5-47b7-a656-45546e1caf7b"
      },
      "source": [
        "def display(title, data):\n",
        "  plt.figure(figsize=(10, 5))\n",
        "  plt.title(label=title)\n",
        "  plt.imshow(np.transpose(data,(1, 2, 0)))\n",
        "\n",
        "for _, (X, y) in enumerate(test_loader):\n",
        "  X = X.view(-1,784)\n",
        "  sample_data = X.bernoulli().to(device)\n",
        "  original, generated = net(sample_data)\n",
        "  break\n",
        "\n",
        "display('original', make_grid(original.view(6, 1, 28, 28).data))\n",
        "display('generated', make_grid(generated.view(6, 1, 28, 28).data))"
      ],
      "execution_count": 123,
      "outputs": [
        {
          "output_type": "display_data",
          "data": {
            "image/png": "[encoded data removed]",
            "text/plain": [
              "<Figure size 720x360 with 1 Axes>"
            ]
          },
          "metadata": {
            "tags": [],
            "needs_background": "light"
          }
        },
        {
          "output_type": "display_data",
          "data": {
            "image/png": "[encoded data removed]",
            "text/plain": [
              "<Figure size 720x360 with 1 Axes>"
            ]
          },
          "metadata": {
            "tags": [],
            "needs_background": "light"
          }
        }
      ]
    }
  ]
}